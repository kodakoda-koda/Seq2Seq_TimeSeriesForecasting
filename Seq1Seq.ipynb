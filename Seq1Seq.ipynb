{
 "cells": [
  {
   "cell_type": "markdown",
   "id": "c4b734b2-c718-4fdb-b830-80e787cc5397",
   "metadata": {},
   "source": [
    "# 【PyTorch】Seq2Seqによる時系列予測"
   ]
  },
  {
   "cell_type": "markdown",
   "id": "434a5740-2f46-4e6b-b779-26431f53fae5",
   "metadata": {},
   "source": [
    "### 初期設定"
   ]
  },
  {
   "cell_type": "code",
   "execution_count": 1,
   "id": "2e8f2ff7-94f5-4368-805b-d39de14e7eec",
   "metadata": {
    "tags": []
   },
   "outputs": [],
   "source": [
    "#ライブラリのインポート\n",
    "import numpy as np\n",
    "import pandas as pd\n",
    "import seaborn as sns\n",
    "import matplotlib.pyplot as plt\n",
    "import warnings\n",
    "import torch\n",
    "import torch.nn as nn\n",
    "from torch.utils.data import Dataset, DataLoader\n",
    "\n",
    "#ランダムシードの設定\n",
    "fix_seed = 0\n",
    "torch.manual_seed(fix_seed)\n",
    "np.random.seed(fix_seed)\n",
    "\n",
    "#デバイスの設定\n",
    "device = torch.device('cuda:0' if torch.cuda.is_available() else 'cpu')\n",
    "\n",
    "warnings.filterwarnings('ignore')"
   ]
  },
  {
   "cell_type": "markdown",
   "id": "0826bbfe-fb8d-4922-9337-85efa8138e24",
   "metadata": {},
   "source": [
    "### データのロードと実験用の成形"
   ]
  },
  {
   "cell_type": "code",
   "execution_count": 2,
   "id": "842ada4a-9606-46c0-a48e-81a126bcd890",
   "metadata": {
    "tags": []
   },
   "outputs": [],
   "source": [
    "class AirPassengersDataset(Dataset):\n",
    "    def __init__(self, flag, seq_len, pred_len):\n",
    "        #学習期間と予測期間の設定\n",
    "        self.seq_len = seq_len\n",
    "        self.pred_len = pred_len\n",
    "        \n",
    "        #訓練用、評価用、テスト用を分けるためのフラグ\n",
    "        type_map = {'train': 0, 'val': 1, 'test':2}\n",
    "        self.set_type = type_map[flag]\n",
    "\n",
    "        self.__read_data__()\n",
    "\n",
    "    def __read_data__(self):\n",
    "        \n",
    "        #seabornのデータセットから飛行機の搭乗者数のデータをロード\n",
    "        df_raw = sns.load_dataset('flights')\n",
    "\n",
    "        #訓練用、評価用、テスト用で呼び出すデータを変える\n",
    "        border1s = [0, 12 * 9 - self.seq_len, 12 * 11 - self.seq_len]\n",
    "        border2s = [12 * 9, 12 * 11, 12 * 12]\n",
    "        border1 = border1s[self.set_type]\n",
    "        border2 = border2s[self.set_type]\n",
    "\n",
    "        data = df_raw[['passengers']].values\n",
    "\n",
    "        self.data = data[border1:border2]\n",
    "\n",
    "    def __getitem__(self, index):\n",
    "        #学習用の系列と予測用の系列を出力\n",
    "        s_begin = index\n",
    "        s_end = s_begin + self.seq_len\n",
    "        r_begin = s_end\n",
    "        r_end = r_begin + self.pred_len\n",
    "\n",
    "        src = self.data[s_begin:s_end]\n",
    "        tgt = self.data[r_begin:r_end]\n",
    "\n",
    "        return src, tgt\n",
    "    \n",
    "    def __len__(self):\n",
    "        return len(self.data) - self.seq_len - self.pred_len + 1"
   ]
  },
  {
   "cell_type": "markdown",
   "id": "7c33f67b-a488-474a-881e-4b5f617555a7",
   "metadata": {},
   "source": [
    "### DataLoaderの定義"
   ]
  },
  {
   "cell_type": "code",
   "execution_count": 3,
   "id": "d5fb0517-b7ca-4288-bafd-d15fe92de1bb",
   "metadata": {
    "tags": []
   },
   "outputs": [],
   "source": [
    "def data_provider(flag, seq_len, pred_len, batch_size):\n",
    "    #flagに合ったデータを出力\n",
    "    data_set = AirPassengersDataset(flag=flag, \n",
    "                                    seq_len=seq_len, \n",
    "                                    pred_len=pred_len\n",
    "                                   )\n",
    "    #データをバッチごとに分けて出力できるDataLoaderを使用\n",
    "    data_loader = DataLoader(data_set,\n",
    "                             batch_size=batch_size, \n",
    "                             shuffle=True\n",
    "                            )\n",
    "    \n",
    "    return data_loader"
   ]
  },
  {
   "cell_type": "markdown",
   "id": "4c518e4b-0704-4419-9534-3a9917bcfe87",
   "metadata": {},
   "source": [
    "### Seq2Seqの定義"
   ]
  },
  {
   "cell_type": "code",
   "execution_count": 4,
   "id": "29078c4c-b071-4479-bdd8-47e8c4c0c8d1",
   "metadata": {
    "tags": []
   },
   "outputs": [],
   "source": [
    "class Seq2Seq(nn.Module):\n",
    "    def __init__(self, d_model, d_input, d_output, dropout = 0.1):\n",
    "        super(Seq2Seq, self).__init__()\n",
    "        \n",
    "        #エンコーダのLSTM\n",
    "        self.enc_lstm = nn.LSTM(d_input, d_model, batch_first=True, dropout=dropout)\n",
    "        \n",
    "        #デコーダのLSTM\n",
    "        self.dec_lstm = nn.LSTM(d_output, d_model, batch_first=True, dropout=dropout)\n",
    "        \n",
    "        #全結合層\n",
    "        self.output = nn.Linear(d_model, d_output)\n",
    "\n",
    "    def forward(self, src, input_tgt):\n",
    "        #hiddenとcontextのみ出力\n",
    "        _, (h, c) = self.enc_lstm(src)\n",
    "        \n",
    "        #hiddenとcontextを用いてinput_tgtを予測\n",
    "        output, _ = self.dec_lstm(input_tgt, (h, c))\n",
    "        \n",
    "        output = self.output(output)\n",
    "        \n",
    "        return output"
   ]
  },
  {
   "cell_type": "markdown",
   "id": "7f938ba4-0680-4ddf-9ad0-b781079ba794",
   "metadata": {},
   "source": [
    "### 訓練、評価、予測の処理を定義"
   ]
  },
  {
   "cell_type": "code",
   "execution_count": 5,
   "id": "9246e19c-1f7c-455a-add2-836c663f552b",
   "metadata": {
    "tags": []
   },
   "outputs": [],
   "source": [
    "def train(model, data_provider, optimizer, criterion):\n",
    "    model.train()\n",
    "    total_loss = []\n",
    "    for src, tgt in data_provider:\n",
    "        #元データがintなのでfloatに変換\n",
    "        src = src.float().to(device)\n",
    "        tgt = tgt.float().to(device)\n",
    "        \n",
    "        #デコーダの入力\n",
    "        input_tgt = torch.cat((src[:,-1:,:], tgt[:,:-1,:]), dim=1)\n",
    "\n",
    "        output = model(src=src, input_tgt=input_tgt)\n",
    "\n",
    "        optimizer.zero_grad()\n",
    "\n",
    "        loss = criterion(output, tgt)\n",
    "        loss.backward()\n",
    "        total_loss.append(loss.cpu().detach())\n",
    "\n",
    "        optimizer.step()\n",
    "        \n",
    "    return np.average(total_loss)\n",
    "\n",
    "\n",
    "def evaluate(model, data_provider, criterion):\n",
    "    model.eval()\n",
    "    total_loss = []\n",
    "    for src, tgt in data_provider:\n",
    "        \n",
    "        src = src.float().to(device)\n",
    "        tgt = tgt.float().to(device)\n",
    "    \n",
    "        #エンコーダから隠れ状態とセル状態を出力\n",
    "        _, (h, c) = model.enc_lstm(src)\n",
    "    \n",
    "        #ループさせて次々に予測\n",
    "        input_tgt = src[:,-1:,:].float().to(device)\n",
    "        output = torch.Tensor().to(device)\n",
    "    \n",
    "        for i in range(tgt.size(1)):\n",
    "        \n",
    "            input_tgt, (h, c) = model.dec_lstm(input_tgt, (h, c))\n",
    "            input_tgt = model.output(input_tgt)\n",
    "        \n",
    "            output = torch.cat((output, input_tgt), dim=1)\n",
    "        \n",
    "        loss = criterion(output, tgt)\n",
    "        total_loss.append(loss.cpu().detach())\n",
    "        \n",
    "    return np.average(total_loss)\n",
    "\n",
    "def predict(model, data_provider, criterion):\n",
    "    model.eval()\n",
    "    #テスト用データは一つなのでforを使わず一つだけ出す\n",
    "    src, tgt = data_provider.__iter__().next()\n",
    "    src = src.float().to(device)\n",
    "    tgt = tgt.float().to(device)\n",
    "    \n",
    "    _, (h, c) = model.enc_lstm(src)\n",
    "    \n",
    "    input_tgt = src[:,-1:,:].float().to(device)\n",
    "    output = torch.Tensor().to(device)\n",
    "    \n",
    "    for i in range(tgt.size(1)):\n",
    "        \n",
    "        input_tgt, (h, c) = model.dec_lstm(input_tgt, (h, c))\n",
    "        input_tgt = model.output(input_tgt)\n",
    "        \n",
    "        output = torch.cat((output, input_tgt), dim=1)\n",
    "    \n",
    "    #予測結果を画像にする\n",
    "    true = torch.cat((src, tgt), dim=1)\n",
    "    pred = torch.cat((src, output), dim=1)\n",
    "    plt.plot(true.squeeze().cpu().detach().numpy(), label='true')\n",
    "    plt.plot(pred.squeeze().cpu().detach().numpy(), label='pred')\n",
    "    plt.legend()\n",
    "    plt.savefig('test.pdf')\n",
    "    \n",
    "    return criterion(output, tgt)"
   ]
  },
  {
   "cell_type": "markdown",
   "id": "59a3a82e-8ef8-4e39-959b-4a276faf6f18",
   "metadata": {},
   "source": [
    "### パラメータなどの定義"
   ]
  },
  {
   "cell_type": "code",
   "execution_count": 6,
   "id": "7d190fe4-ac73-49a7-97ae-8f449356534d",
   "metadata": {
    "tags": []
   },
   "outputs": [],
   "source": [
    "d_input = 1\n",
    "d_output = 1\n",
    "d_model = 512\n",
    "dropout = 0.1\n",
    "src_len = 36\n",
    "tgt_len = 12\n",
    "batch_size = 1\n",
    "epochs = 200\n",
    "best_loss = float('Inf')\n",
    "best_model = None\n",
    "\n",
    "model = Seq2Seq(\n",
    "    d_model=d_model,\n",
    "    d_input=d_input, d_output=d_output,\n",
    "    dropout=dropout\n",
    ")\n",
    "\n",
    "#パラメータの初期化\n",
    "for p in model.parameters():\n",
    "    if p.dim() > 1:\n",
    "        nn.init.xavier_uniform_(p)\n",
    "\n",
    "model = model.to(device)\n",
    "\n",
    "criterion = torch.nn.MSELoss()\n",
    "\n",
    "optimizer = torch.optim.RAdam(model.parameters())"
   ]
  },
  {
   "cell_type": "markdown",
   "id": "0039e832-a087-4849-a7de-629f8f28cc3c",
   "metadata": {},
   "source": [
    "### 訓練"
   ]
  },
  {
   "cell_type": "code",
   "execution_count": 7,
   "id": "d763045e-7c1b-490a-b2b0-42c0e3bb8bc6",
   "metadata": {
    "tags": []
   },
   "outputs": [
    {
     "name": "stdout",
     "output_type": "stream",
     "text": [
      "[20/200] train loss: 898.80, valid loss: 11289.53\n",
      "[40/200] train loss: 414.59, valid loss: 5085.10\n",
      "[60/200] train loss: 270.39, valid loss: 5017.08\n",
      "[80/200] train loss: 220.20, valid loss: 5464.47\n",
      "[100/200] train loss: 174.19, valid loss: 6707.09\n",
      "[120/200] train loss: 117.71, valid loss: 6295.37\n",
      "[140/200] train loss: 100.28, valid loss: 5069.37\n",
      "[160/200] train loss: 116.59, valid loss: 4971.06\n",
      "[180/200] train loss: 86.13, valid loss: 4961.28\n",
      "[200/200] train loss: 72.21, valid loss: 6812.09\n"
     ]
    }
   ],
   "source": [
    "for epoch in range(1, epochs + 1):\n",
    "    \n",
    "    #訓練\n",
    "    loss_train = train(model=model, \n",
    "                       data_provider=data_provider('train', src_len, tgt_len, batch_size), \n",
    "                       optimizer=optimizer, \n",
    "                       criterion=criterion\n",
    "                      )\n",
    "    #評価\n",
    "    loss_valid = evaluate(model=model, \n",
    "                          data_provider=data_provider('val', src_len, tgt_len, batch_size), \n",
    "                          criterion=criterion\n",
    "                         )\n",
    "    \n",
    "    \n",
    "    if epoch%20==0:\n",
    "        print('[{}/{}] train loss: {:.2f}, valid loss: {:.2f}'.format(\n",
    "            epoch, epochs,\n",
    "            loss_train, loss_valid,\n",
    "        ))\n",
    "    \n",
    "    #評価用データに対する損失が最も小さいものを最も良いモデルとする\n",
    "    if best_loss > loss_valid:\n",
    "        best_loss = loss_valid\n",
    "        best_model = model\n",
    "        counter = 0"
   ]
  },
  {
   "cell_type": "markdown",
   "id": "5f6e657f-765d-4130-b9f4-8573cd39c66e",
   "metadata": {},
   "source": [
    "### テスト用データにおける予測"
   ]
  },
  {
   "cell_type": "code",
   "execution_count": 8,
   "id": "9abafcbe-d26e-412c-879f-ca75f663c669",
   "metadata": {
    "tags": []
   },
   "outputs": [
    {
     "data": {
      "text/plain": [
       "tensor(7088.8867, device='cuda:0', grad_fn=<MseLossBackward0>)"
      ]
     },
     "execution_count": 8,
     "metadata": {},
     "output_type": "execute_result"
    },
    {
     "data": {
      "image/png": "[encoded data removed]",
      "text/plain": [
       "<Figure size 432x288 with 1 Axes>"
      ]
     },
     "metadata": {
      "needs_background": "light"
     },
     "output_type": "display_data"
    }
   ],
   "source": [
    "predict(model=best_model, data_provider=data_provider('test', src_len, tgt_len, batch_size), criterion=criterion)"
   ]
  },
  {
   "cell_type": "code",
   "execution_count": null,
   "id": "6f1ce9c5-48ba-4459-b826-35509b543600",
   "metadata": {},
   "outputs": [],
   "source": []
  },
  {
   "cell_type": "code",
   "execution_count": null,
   "id": "d6a359a4-f6f4-4491-a8b0-1aca4e31e62c",
   "metadata": {},
   "outputs": [],
   "source": []
  }
 ],
 "metadata": {
  "kernelspec": {
   "display_name": "Python 3.9",
   "language": "python",
   "name": "python3.9"
  },
  "language_info": {
   "codemirror_mode": {
    "name": "ipython",
    "version": 3
   },
   "file_extension": ".py",
   "mimetype": "text/x-python",
   "name": "python",
   "nbconvert_exporter": "python",
   "pygments_lexer": "ipython3",
   "version": "3.9.7"
  }
 },
 "nbformat": 4,
 "nbformat_minor": 5
}
